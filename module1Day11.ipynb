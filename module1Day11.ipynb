{
 "cells": [
  {
   "cell_type": "code",
   "execution_count": 3,
   "id": "60f44ad2",
   "metadata": {},
   "outputs": [
    {
     "name": "stdout",
     "output_type": "stream",
     "text": [
      "2\n",
      "enter the number:..1234\n",
      "10\n",
      "enter the number:..123456\n",
      "21\n"
     ]
    }
   ],
   "source": [
    "n= int(input())\n",
    "for i in range(n):\n",
    "    number=int(input('enter the number:..'))\n",
    "    digitsum=0\n",
    "    k=number\n",
    "    while(k!=0):\n",
    "        s=k%10\n",
    "        k=k//10\n",
    "        \n",
    "        digitsum+=s\n",
    "    print(digitsum)\n",
    "    "
   ]
  },
  {
   "cell_type": "code",
   "execution_count": 1,
   "id": "920e7b97",
   "metadata": {},
   "outputs": [
    {
     "name": "stdout",
     "output_type": "stream",
     "text": [
      "Do you want to startjj\n",
      "Thankyou, you may leave\n"
     ]
    },
    {
     "ename": "NameError",
     "evalue": "name 'cont' is not defined",
     "output_type": "error",
     "traceback": [
      "\u001b[1;31m---------------------------------------------------------------------------\u001b[0m",
      "\u001b[1;31mNameError\u001b[0m                                 Traceback (most recent call last)",
      "Input \u001b[1;32mIn [1]\u001b[0m, in \u001b[0;36m<cell line: 11>\u001b[1;34m()\u001b[0m\n\u001b[0;32m      5\u001b[0m \u001b[38;5;28;01melse\u001b[39;00m:\n\u001b[0;32m      7\u001b[0m     \u001b[38;5;28mprint\u001b[39m(\u001b[38;5;124m'\u001b[39m\u001b[38;5;124mThankyou, you may leave\u001b[39m\u001b[38;5;124m'\u001b[39m)\n\u001b[1;32m---> 11\u001b[0m \u001b[38;5;28;01mwhile\u001b[39;00m \u001b[43mcont\u001b[49m:\n\u001b[0;32m     13\u001b[0m     number\u001b[38;5;241m=\u001b[39m\u001b[38;5;28mint\u001b[39m(\u001b[38;5;28minput\u001b[39m(\u001b[38;5;124m'\u001b[39m\u001b[38;5;124menter the number:..\u001b[39m\u001b[38;5;124m'\u001b[39m))\n\u001b[0;32m     14\u001b[0m     digitsum\u001b[38;5;241m=\u001b[39m\u001b[38;5;241m0\u001b[39m\n",
      "\u001b[1;31mNameError\u001b[0m: name 'cont' is not defined"
     ]
    }
   ],
   "source": [
    "begin=input('Do you want to start')\n",
    "cont=0\n",
    "\n",
    "if(begin.lower()=='yes'):\n",
    "    cont=True\n",
    "else:\n",
    "    \n",
    "    print('Thankyou, you may leave')\n",
    "\n",
    "    \n",
    "    \n",
    "while cont:\n",
    "    \n",
    "    number=int(input('enter the number:..'))\n",
    "    digitsum=0\n",
    "    k=number\n",
    "    while(k!=0):\n",
    "        s=k%10\n",
    "        k=k//10\n",
    "        \n",
    "        digitsum+=s\n",
    "    print(digitsum)\n",
    "\n",
    "    star=input('Do you want to continue?')\n",
    "    if(star=='yes'):\n",
    "        continue\n",
    "    else:\n",
    "        print('Thankyou, you may leave')\n",
    "        break\n",
    "        \n",
    "    "
   ]
  },
  {
   "cell_type": "code",
   "execution_count": null,
   "id": "c67148a3",
   "metadata": {},
   "outputs": [],
   "source": [
    "begin=input('Do you want to start')\n",
    "\n",
    "if(begin.lower()=='yes'):\n",
    "    cont=True\n",
    "else:\n",
    "    \n",
    "    print('Thankyou, you may leave')\n",
    "print(cont)"
   ]
  },
  {
   "cell_type": "code",
   "execution_count": null,
   "id": "5d4dcb83",
   "metadata": {},
   "outputs": [],
   "source": []
  }
 ],
 "metadata": {
  "kernelspec": {
   "display_name": "Python 3 (ipykernel)",
   "language": "python",
   "name": "python3"
  },
  "language_info": {
   "codemirror_mode": {
    "name": "ipython",
    "version": 3
   },
   "file_extension": ".py",
   "mimetype": "text/x-python",
   "name": "python",
   "nbconvert_exporter": "python",
   "pygments_lexer": "ipython3",
   "version": "3.9.12"
  }
 },
 "nbformat": 4,
 "nbformat_minor": 5
}
